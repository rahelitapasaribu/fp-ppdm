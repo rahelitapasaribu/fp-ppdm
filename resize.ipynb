{
 "cells": [
  {
   "cell_type": "markdown",
   "id": "c68cdfdd",
   "metadata": {},
   "source": [
    "library"
   ]
  },
  {
   "cell_type": "code",
   "execution_count": 29,
   "id": "b0aacaec",
   "metadata": {},
   "outputs": [],
   "source": [
    "import cv2\n",
    "import os"
   ]
  },
  {
   "cell_type": "markdown",
   "id": "599c9a0a",
   "metadata": {},
   "source": [
    "function untuk resize semua gambar low res"
   ]
  },
  {
   "cell_type": "code",
   "execution_count": 30,
   "id": "ce36131a",
   "metadata": {},
   "outputs": [],
   "source": [
    "def resize(folder_before, folder_after, size):\n",
    "    os.makedirs(folder_after, exist_ok=True)\n",
    "    for filename in os.listdir(folder_before):\n",
    "        if filename.lower().endswith(('.jpg', '.png')):\n",
    "            path_img = os.path.join(folder_before, filename)\n",
    "            img = cv2.imread(path_img)\n",
    "            if img is not None:\n",
    "                img_resized = cv2.resize(img, size, interpolation=cv2.INTER_CUBIC)\n",
    "                path_saved = os.path.join(folder_after, filename)\n",
    "                cv2.imwrite(path_saved, img_resized)"
   ]
  },
  {
   "cell_type": "code",
   "execution_count": null,
   "id": "304a319e",
   "metadata": {},
   "outputs": [],
   "source": [
    "lr_train = 'G:/My Drive/Udayana/Semester 4/Pengantar Pemrosesan Data Multimedia/fp-ppdm/train/low-res'\n",
    "lr_test = 'G:/My Drive/Udayana/Semester 4/Pengantar Pemrosesan Data Multimedia/fp-ppdm/testing/low-res'\n",
    "hr_train = 'G:/My Drive/Udayana/Semester 4/Pengantar Pemrosesan Data Multimedia/fp-ppdm/train/high-res'\n",
    "hr_test = 'G:/My Drive/Udayana/Semester 4/Pengantar Pemrosesan Data Multimedia/fp-ppdm/testing/high-res'"
   ]
  },
  {
   "cell_type": "code",
   "execution_count": null,
   "id": "933e1aef",
   "metadata": {},
   "outputs": [],
   "source": [
    "output_train_lr = 'G:/My Drive/Udayana/Semester 4/Pengantar Pemrosesan Data Multimedia/fp-ppdm/train/lr_resized'\n",
    "output_test_lr = 'G:/My Drive/Udayana/Semester 4/Pengantar Pemrosesan Data Multimedia/fp-ppdm/testing/lr_resized'\n",
    "output_train_hr = 'G:/My Drive/Udayana/Semester 4/Pengantar Pemrosesan Data Multimedia/fp-ppdm/train/hr_resized'\n",
    "output_test_hr = 'G:/My Drive/Udayana/Semester 4/Pengantar Pemrosesan Data Multimedia/fp-ppdm/testing/hr_resized'"
   ]
  },
  {
   "cell_type": "code",
   "execution_count": 33,
   "id": "0febb2f1",
   "metadata": {},
   "outputs": [],
   "source": [
    "size_lr = (300, 200)\n",
    "size_hr = (1200, 800)"
   ]
  },
  {
   "cell_type": "code",
   "execution_count": 34,
   "id": "72160bb6",
   "metadata": {},
   "outputs": [
    {
     "name": "stdout",
     "output_type": "stream",
     "text": [
      "Berhasil resize.\n"
     ]
    }
   ],
   "source": [
    "resize(lr_train, output_train_lr, size_lr)\n",
    "resize(lr_test, output_test_lr, size_lr)\n",
    "resize(hr_train, output_train_hr, size_hr)\n",
    "resize(hr_test, output_test_hr, size_hr)\n",
    "print('Berhasil resize.')"
   ]
  }
 ],
 "metadata": {
  "kernelspec": {
   "display_name": "Python 3",
   "language": "python",
   "name": "python3"
  },
  "language_info": {
   "codemirror_mode": {
    "name": "ipython",
    "version": 3
   },
   "file_extension": ".py",
   "mimetype": "text/x-python",
   "name": "python",
   "nbconvert_exporter": "python",
   "pygments_lexer": "ipython3",
   "version": "3.13.0"
  }
 },
 "nbformat": 4,
 "nbformat_minor": 5
}
