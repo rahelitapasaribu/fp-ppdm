{
 "cells": [
  {
   "cell_type": "markdown",
   "id": "99976aaa",
   "metadata": {},
   "source": [
    "library"
   ]
  },
  {
   "cell_type": "code",
   "execution_count": 1,
   "id": "040dd5fd",
   "metadata": {},
   "outputs": [],
   "source": [
    "import cv2\n",
    "import os"
   ]
  },
  {
   "cell_type": "code",
   "execution_count": null,
   "id": "b3ee76ca",
   "metadata": {},
   "outputs": [],
   "source": [
    "# path file. ambil 1 sebagai contoh\n",
    "lowres = 'G:/My Drive/Udayana/Semester 4/Pengantar Pemrosesan Data Multimedia/fp-ppdm/train/low-res/8_4.jpg'\n",
    "highres = 'G:/My Drive/Udayana/Semester 4/Pengantar Pemrosesan Data Multimedia/fp-ppdm/train/high-res/8.jpg'"
   ]
  },
  {
   "cell_type": "code",
   "execution_count": null,
   "id": "02d9e56d",
   "metadata": {},
   "outputs": [],
   "source": [
    "# baca gambar\n",
    "lr_img = cv2.imread(lowres)\n",
    "hr_img = cv2.imread(highres)"
   ]
  },
  {
   "cell_type": "code",
   "execution_count": null,
   "id": "ba5d4d21",
   "metadata": {},
   "outputs": [
    {
     "name": "stdout",
     "output_type": "stream",
     "text": [
      "Ukuran gambar LR: (800, 1200, 3)\n",
      "Ukuran gambar HR: (800, 1200, 3)\n"
     ]
    }
   ],
   "source": [
    "# cetak ukuran gambarnya\n",
    "print(\"Ukuran gambar LR:\", lr_img.shape)\n",
    "print(\"Ukuran gambar HR:\", hr_img.shape)"
   ]
  }
 ],
 "metadata": {
  "kernelspec": {
   "display_name": "Python 3",
   "language": "python",
   "name": "python3"
  },
  "language_info": {
   "codemirror_mode": {
    "name": "ipython",
    "version": 3
   },
   "file_extension": ".py",
   "mimetype": "text/x-python",
   "name": "python",
   "nbconvert_exporter": "python",
   "pygments_lexer": "ipython3",
   "version": "3.13.0"
  }
 },
 "nbformat": 4,
 "nbformat_minor": 5
}
