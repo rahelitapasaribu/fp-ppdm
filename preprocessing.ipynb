{
 "cells": [
  {
   "cell_type": "markdown",
   "id": "02defe08",
   "metadata": {},
   "source": [
    "library"
   ]
  },
  {
   "cell_type": "code",
   "execution_count": 9,
   "id": "5b33fdb4",
   "metadata": {},
   "outputs": [],
   "source": [
    "import os \n",
    "import cv2\n",
    "import numpy as np"
   ]
  },
  {
   "cell_type": "code",
   "execution_count": 10,
   "id": "38708509",
   "metadata": {},
   "outputs": [],
   "source": [
    "def normalize(path_folder, size=None):\n",
    "    data = []\n",
    "    for filename in sorted(os.listdir(path_folder)):\n",
    "        if filename.lower().endswith(('.jpg', 'png')):\n",
    "            path = os.path.join(path_folder, filename)\n",
    "            img = cv2.imread(path)\n",
    "            if size:\n",
    "                img = cv2.resize(img, size, interpolation=cv2.INTER_CUBIC)\n",
    "            img = img.astype(np.float32)/255.0 # normalisasi\n",
    "            data.append(img)\n",
    "    return np.array(data)"
   ]
  },
  {
   "cell_type": "code",
   "execution_count": null,
   "id": "7496747d",
   "metadata": {},
   "outputs": [],
   "source": [
    "train_lr = 'train/lr_resized'\n",
    "train_hr = 'train/hr_resized'\n",
    "test_lr = 'testing/lr_resized'\n",
    "test_hr = 'testing/hr_resized'"
   ]
  },
  {
   "cell_type": "code",
   "execution_count": 12,
   "id": "f1013e4c",
   "metadata": {},
   "outputs": [
    {
     "name": "stdout",
     "output_type": "stream",
     "text": [
      "Dataset sudah siap. Shape:\n",
      "x_train: (80, 200, 300, 3)\n",
      "y_train: (80, 800, 1200, 3)\n"
     ]
    }
   ],
   "source": [
    "x_train = normalize(train_lr)\n",
    "y_train = normalize(train_hr)\n",
    "x_test = normalize(test_lr)\n",
    "y_test = normalize(test_hr)\n",
    "\n",
    "print(\"Dataset sudah siap. Shape:\")\n",
    "print(\"x_train:\", x_train.shape)\n",
    "print(\"y_train:\", y_train.shape)"
   ]
  }
 ],
 "metadata": {
  "kernelspec": {
   "display_name": "Python 3",
   "language": "python",
   "name": "python3"
  },
  "language_info": {
   "codemirror_mode": {
    "name": "ipython",
    "version": 3
   },
   "file_extension": ".py",
   "mimetype": "text/x-python",
   "name": "python",
   "nbconvert_exporter": "python",
   "pygments_lexer": "ipython3",
   "version": "3.10.6"
  }
 },
 "nbformat": 4,
 "nbformat_minor": 5
}
